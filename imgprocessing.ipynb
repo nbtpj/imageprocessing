{
 "cells": [
  {
   "cell_type": "code",
   "execution_count": 2,
   "metadata": {
    "collapsed": true
   },
   "outputs": [
    {
     "ename": "ModuleNotFoundError",
     "evalue": "No module named 'cv2'",
     "output_type": "error",
     "traceback": [
      "\u001B[1;31m---------------------------------------------------------------------------\u001B[0m",
      "\u001B[1;31mModuleNotFoundError\u001B[0m                       Traceback (most recent call last)",
      "\u001B[1;32m~\\AppData\\Local\\Temp/ipykernel_19124/3405276584.py\u001B[0m in \u001B[0;36m<module>\u001B[1;34m\u001B[0m\n\u001B[0;32m      1\u001B[0m \u001B[1;32mimport\u001B[0m \u001B[0mnumpy\u001B[0m \u001B[1;32mas\u001B[0m \u001B[0mnp\u001B[0m\u001B[1;33m\u001B[0m\u001B[1;33m\u001B[0m\u001B[0m\n\u001B[1;32m----> 2\u001B[1;33m \u001B[1;32mimport\u001B[0m \u001B[0mcv2\u001B[0m\u001B[1;33m\u001B[0m\u001B[1;33m\u001B[0m\u001B[0m\n\u001B[0m\u001B[0;32m      3\u001B[0m \u001B[1;33m\u001B[0m\u001B[0m\n",
      "\u001B[1;31mModuleNotFoundError\u001B[0m: No module named 'cv2'"
     ]
    }
   ],
   "source": [
    "import numpy as np\n",
    "import cv2"
   ]
  },
  {
   "cell_type": "markdown",
   "source": [
    "## quang sẽ làm phần các bộ lọc - thêm nhiễu"
   ],
   "metadata": {
    "collapsed": false,
    "pycharm": {
     "name": "#%% md\n"
    }
   }
  },
  {
   "cell_type": "code",
   "execution_count": null,
   "outputs": [],
   "source": [
    "import numpy as np\n",
    "from matplotlib import pyplot as plt\n",
    "import matplotlib.image as mpimg\n",
    "import cv2\n",
    "\n",
    "i = cv2.imread(\"lenna.png\")\n",
    "i = cv2.cvtColor(i, cv2.COLOR_BGR2RGB)\n",
    "plt.axis('off')\n",
    "plt.imshow(i)\n",
    "plt.show()\n",
    "\n",
    "\n",
    "# %% md\n",
    "## thêm nhiễu\n",
    "### 1. Gauss\n",
    "# %%\n",
    "def add_gauss_noise(i: np.array, s: float) -> np.array:\n",
    "    gauss = np.random.normal(loc=0, scale=s, size=i.shape) + i\n",
    "    gauss = (gauss - np.amin(gauss.reshape(-1, 3), axis=0)) / (\n",
    "            np.amax(gauss.reshape(-1, 3), axis=0) - np.amin(gauss.reshape(-1, 3), axis=0)) * 255\n",
    "    gauss = gauss.astype(int)\n",
    "    return gauss\n",
    "\n",
    "\n",
    "gauss = add_gauss_noise(i, 30)\n",
    "plt.axis('off')\n",
    "plt.imshow(gauss)\n",
    "plt.show()\n",
    "\n",
    "\n",
    "# %% md\n",
    "### 2. Impulsive\n",
    "# %%\n",
    "def add_impulsive_noise(i: np.array, ratio: float) -> np.array:\n",
    "    import copy\n",
    "    # random position\n",
    "    i_p = copy.deepcopy(i).reshape(-1, 3)\n",
    "    total_pos = i_p.shape[0]\n",
    "    pos = total_pos * np.random.rand(int(total_pos * ratio))\n",
    "    pos = pos.astype(int)\n",
    "    for p in pos:\n",
    "        is_salt = np.random.ranf() > 0.5\n",
    "        if is_salt:\n",
    "            i_p[p] = [0, 0, 0]\n",
    "        else:\n",
    "            i_p[p] = [255, 255, 255]\n",
    "    return i_p.reshape(i.shape)\n",
    "\n",
    "\n",
    "impulsive = add_impulsive_noise(i, 0.02)\n",
    "plt.axis('off')\n",
    "plt.imshow(impulsive)\n",
    "plt.show()\n",
    "\n",
    "# %%\n",
    "from filter import *\n",
    "\n",
    "\n",
    "def filter_plot(i: np.array, filter) -> np.array:\n",
    "    filtered = filter(i)\n",
    "    plt.axis('off')\n",
    "    plt.imshow(filtered)\n",
    "    plt.show()\n",
    "    return filtered\n",
    "\n",
    "\n",
    "filters = [\n",
    "    ANMF,\n",
    "    AVMF,\n",
    "    DDF,\n",
    "    GVDF\n",
    "]\n",
    "for filter in filters:\n",
    "    print(filter.__name__)\n",
    "    a = filter_plot(gauss, filter)\n",
    "    b = filter_plot(impulsive, filter)"
   ],
   "metadata": {
    "collapsed": false,
    "pycharm": {
     "name": "#%%\n"
    }
   }
  },
  {
   "cell_type": "markdown",
   "source": [
    "## tuấn cài các công cụ đánh giá"
   ],
   "metadata": {
    "collapsed": false,
    "pycharm": {
     "name": "#%% md\n"
    }
   }
  }
 ],
 "metadata": {
  "kernelspec": {
   "display_name": "Python 3",
   "language": "python",
   "name": "python3"
  },
  "language_info": {
   "codemirror_mode": {
    "name": "ipython",
    "version": 2
   },
   "file_extension": ".py",
   "mimetype": "text/x-python",
   "name": "python",
   "nbconvert_exporter": "python",
   "pygments_lexer": "ipython2",
   "version": "2.7.6"
  }
 },
 "nbformat": 4,
 "nbformat_minor": 0
}